{
 "cells": [
  {
   "cell_type": "markdown",
   "metadata": {},
   "source": [
    "# Load"
   ]
  },
  {
   "cell_type": "code",
   "execution_count": 1,
   "metadata": {},
   "outputs": [
    {
     "name": "stdout",
     "output_type": "stream",
     "text": [
      "Dataset loaded with flexible parsing. Preview:\n",
      "   Unnamed: 0                 id                               name  \\\n",
      "0           0  23849302854290177       Auto - TOF - US + UK  #Stack   \n",
      "1           0  23849302854290177       Auto - TOF - US + UK  #Stack   \n",
      "2           1  23849302854200177  Auto - TOF - US + UK  #Stack - ON   \n",
      "3           1  23849302854200177  Auto - TOF - US + UK  #Stack - ON   \n",
      "4           2  23849302775990177          Feeds - TOF - US - #Stack   \n",
      "\n",
      "         campaign_id  status    optimization_goal billing_event  bid_amount  \\\n",
      "0  23849302854210177  ACTIVE  OFFSITE_CONVERSIONS   IMPRESSIONS     10000.0   \n",
      "1  23849302854210177  ACTIVE  OFFSITE_CONVERSIONS   IMPRESSIONS     10000.0   \n",
      "2  23849302854210177  ACTIVE  OFFSITE_CONVERSIONS   IMPRESSIONS     10000.0   \n",
      "3  23849302854210177  ACTIVE  OFFSITE_CONVERSIONS   IMPRESSIONS     10000.0   \n",
      "4  23849302775960177  ACTIVE  OFFSITE_CONVERSIONS   IMPRESSIONS         NaN   \n",
      "\n",
      "   budget_remaining                start_time  ... audience_network_positions  \\\n",
      "0                 0  2021-10-26T08:33:27-0400  ...                        NaN   \n",
      "1                 0  2021-10-26T08:33:27-0400  ...                        NaN   \n",
      "2                 0  2021-10-26T08:33:28-0400  ...                        NaN   \n",
      "3                 0  2021-10-26T08:33:28-0400  ...                        NaN   \n",
      "4                 0  2021-10-26T08:08:25-0400  ...                        NaN   \n",
      "\n",
      "   locales  brand_safety_content_filter_levels device_platforms  \\\n",
      "0      NaN                                 NaN              NaN   \n",
      "1      NaN                                 NaN              NaN   \n",
      "2      NaN                                 NaN              NaN   \n",
      "3      NaN                                 NaN              NaN   \n",
      "4      NaN                                 NaN              NaN   \n",
      "\n",
      "  excluded_custom_audiences.1 custom_audiences.1  product_audience_specs  \\\n",
      "0                         NaN                NaN                     NaN   \n",
      "1                         NaN                NaN                     NaN   \n",
      "2                         NaN                NaN                     NaN   \n",
      "3                         NaN                NaN                     NaN   \n",
      "4                         NaN                NaN                     NaN   \n",
      "\n",
      "   targeting_relaxation_types     event_type window_days  \n",
      "0                         NaN  CLICK_THROUGH           7  \n",
      "1                         NaN   VIEW_THROUGH           1  \n",
      "2                         NaN  CLICK_THROUGH           7  \n",
      "3                         NaN   VIEW_THROUGH           1  \n",
      "4                         NaN  CLICK_THROUGH           7  \n",
      "\n",
      "[5 rows x 40 columns]\n"
     ]
    }
   ],
   "source": [
    "import pandas as pd\n",
    "\n",
    "# File path to your dataset\n",
    "file_path = '/Users/manuel/Documents/GitHub/JeanPierreWeill/Data /MetaAdsOld/Adset_Data_Expanded_and_Cleaned.csv'\n",
    "\n",
    "# Attempt to load the file with flexible parsing\n",
    "try:\n",
    "    data = pd.read_csv(file_path, encoding='latin1', on_bad_lines='skip')\n",
    "except UnicodeDecodeError:\n",
    "    data = pd.read_csv(file_path, encoding='utf-8', on_bad_lines='skip')\n",
    "\n",
    "# Inspect the first few rows\n",
    "print(\"Dataset loaded with flexible parsing. Preview:\")\n",
    "print(data.head())\n",
    "\n",
    "\n",
    "\n"
   ]
  },
  {
   "cell_type": "code",
   "execution_count": 2,
   "metadata": {},
   "outputs": [
    {
     "name": "stdout",
     "output_type": "stream",
     "text": [
      "\n",
      "Dataset information:\n",
      "<class 'pandas.core.frame.DataFrame'>\n",
      "RangeIndex: 215 entries, 0 to 214\n",
      "Data columns (total 40 columns):\n",
      " #   Column                              Non-Null Count  Dtype  \n",
      "---  ------                              --------------  -----  \n",
      " 0   Unnamed: 0                          215 non-null    int64  \n",
      " 1   id                                  215 non-null    int64  \n",
      " 2   name                                215 non-null    object \n",
      " 3   campaign_id                         215 non-null    int64  \n",
      " 4   status                              215 non-null    object \n",
      " 5   optimization_goal                   215 non-null    object \n",
      " 6   billing_event                       215 non-null    object \n",
      " 7   bid_amount                          12 non-null     float64\n",
      " 8   budget_remaining                    215 non-null    int64  \n",
      " 9   start_time                          215 non-null    object \n",
      " 10  countries                           215 non-null    object \n",
      " 11  age_min                             215 non-null    int64  \n",
      " 12  age_max                             215 non-null    int64  \n",
      " 13  genders                             215 non-null    object \n",
      " 14  custom_audiences                    215 non-null    object \n",
      " 15  excluded_custom_audiences           215 non-null    object \n",
      " 16  daily_budget                        162 non-null    float64\n",
      " 17  lifetime_budget                     162 non-null    float64\n",
      " 18  targeting_clean                     215 non-null    object \n",
      " 19  attribution_spec_clean              215 non-null    object \n",
      " 20  age_max.1                           213 non-null    float64\n",
      " 21  age_min.1                           213 non-null    float64\n",
      " 22  excluded_product_audience_specs     36 non-null     object \n",
      " 23  flexible_spec                       88 non-null     object \n",
      " 24  geo_locations                       213 non-null    object \n",
      " 25  targeting_optimization              113 non-null    object \n",
      " 26  publisher_platforms                 140 non-null    object \n",
      " 27  facebook_positions                  138 non-null    object \n",
      " 28  instagram_positions                 138 non-null    object \n",
      " 29  genders.1                           64 non-null     object \n",
      " 30  audience_network_positions          5 non-null      object \n",
      " 31  locales                             118 non-null    object \n",
      " 32  brand_safety_content_filter_levels  18 non-null     object \n",
      " 33  device_platforms                    12 non-null     object \n",
      " 34  excluded_custom_audiences.1         28 non-null     object \n",
      " 35  custom_audiences.1                  18 non-null     object \n",
      " 36  product_audience_specs              20 non-null     object \n",
      " 37  targeting_relaxation_types          122 non-null    object \n",
      " 38  event_type                          215 non-null    object \n",
      " 39  window_days                         215 non-null    int64  \n",
      "dtypes: float64(5), int64(7), object(28)\n",
      "memory usage: 67.3+ KB\n"
     ]
    }
   ],
   "source": [
    "# Display basic info about the dataset\n",
    "print(\"\\nDataset information:\")\n",
    "data.info()"
   ]
  },
  {
   "cell_type": "code",
   "execution_count": 3,
   "metadata": {},
   "outputs": [
    {
     "name": "stdout",
     "output_type": "stream",
     "text": [
      "\n",
      "Missing values:\n",
      "Unnamed: 0                              0\n",
      "id                                      0\n",
      "name                                    0\n",
      "campaign_id                             0\n",
      "status                                  0\n",
      "optimization_goal                       0\n",
      "billing_event                           0\n",
      "bid_amount                            203\n",
      "budget_remaining                        0\n",
      "start_time                              0\n",
      "countries                               0\n",
      "age_min                                 0\n",
      "age_max                                 0\n",
      "genders                                 0\n",
      "custom_audiences                        0\n",
      "excluded_custom_audiences               0\n",
      "daily_budget                           53\n",
      "lifetime_budget                        53\n",
      "targeting_clean                         0\n",
      "attribution_spec_clean                  0\n",
      "age_max.1                               2\n",
      "age_min.1                               2\n",
      "excluded_product_audience_specs       179\n",
      "flexible_spec                         127\n",
      "geo_locations                           2\n",
      "targeting_optimization                102\n",
      "publisher_platforms                    75\n",
      "facebook_positions                     77\n",
      "instagram_positions                    77\n",
      "genders.1                             151\n",
      "audience_network_positions            210\n",
      "locales                                97\n",
      "brand_safety_content_filter_levels    197\n",
      "device_platforms                      203\n",
      "excluded_custom_audiences.1           187\n",
      "custom_audiences.1                    197\n",
      "product_audience_specs                195\n",
      "targeting_relaxation_types             93\n",
      "event_type                              0\n",
      "window_days                             0\n",
      "dtype: int64\n"
     ]
    }
   ],
   "source": [
    "# Check for missing values\n",
    "print(\"\\nMissing values:\")\n",
    "print(data.isnull().sum())"
   ]
  },
  {
   "cell_type": "code",
   "execution_count": 4,
   "metadata": {},
   "outputs": [
    {
     "name": "stdout",
     "output_type": "stream",
     "text": [
      "\n",
      "Remaining columns after dropping those with excessive missing values:\n",
      "Index(['Unnamed: 0', 'id', 'name', 'campaign_id', 'status',\n",
      "       'optimization_goal', 'billing_event', 'budget_remaining', 'start_time',\n",
      "       'countries', 'age_min', 'age_max', 'genders', 'custom_audiences',\n",
      "       'excluded_custom_audiences', 'daily_budget', 'lifetime_budget',\n",
      "       'targeting_clean', 'attribution_spec_clean', 'age_max.1', 'age_min.1',\n",
      "       'geo_locations', 'targeting_optimization', 'publisher_platforms',\n",
      "       'facebook_positions', 'instagram_positions', 'locales',\n",
      "       'targeting_relaxation_types', 'event_type', 'window_days'],\n",
      "      dtype='object')\n"
     ]
    }
   ],
   "source": [
    "# Drop columns with excessive missing values (e.g., more than 50%)\n",
    "threshold = 0.5 * len(data)\n",
    "data = data.dropna(axis=1, thresh=threshold)\n",
    "print(\"\\nRemaining columns after dropping those with excessive missing values:\")\n",
    "print(data.columns)"
   ]
  },
  {
   "cell_type": "code",
   "execution_count": 5,
   "metadata": {},
   "outputs": [
    {
     "name": "stderr",
     "output_type": "stream",
     "text": [
      "/var/folders/4n/_sfxdkln69z0380mkk8642fc0000gn/T/ipykernel_88912/2231617102.py:3: FutureWarning: DataFrame.applymap has been deprecated. Use DataFrame.map instead.\n",
      "  data = data.applymap(lambda x: x.encode('ascii', 'ignore').decode('ascii').strip() if isinstance(x, str) else x)\n"
     ]
    }
   ],
   "source": [
    "# Remove non-printable characters from column names and data\n",
    "data.columns = [col.encode('ascii', 'ignore').decode('ascii').strip() for col in data.columns]\n",
    "data = data.applymap(lambda x: x.encode('ascii', 'ignore').decode('ascii').strip() if isinstance(x, str) else x)\n"
   ]
  },
  {
   "cell_type": "code",
   "execution_count": 5,
   "metadata": {},
   "outputs": [
    {
     "name": "stdout",
     "output_type": "stream",
     "text": [
      "\n",
      "Summary statistics:\n",
      "       Unnamed: 0            id   campaign_id  budget_remaining     age_min  \\\n",
      "count  215.000000  2.150000e+02  2.150000e+02        215.000000  215.000000   \n",
      "mean    58.190698  2.384853e+16  2.384848e+16        702.679070   32.925581   \n",
      "std     32.621246  7.363295e+11  7.483391e+11       1145.191281    8.426374   \n",
      "min      0.000000  2.384702e+16  2.384702e+16          0.000000   18.000000   \n",
      "25%     31.000000  2.384824e+16  2.384824e+16        110.000000   25.000000   \n",
      "50%     59.000000  2.384887e+16  2.384887e+16        110.000000   30.000000   \n",
      "75%     86.000000  2.384911e+16  2.384910e+16        599.500000   40.000000   \n",
      "max    113.000000  2.384930e+16  2.384930e+16       4500.000000   45.000000   \n",
      "\n",
      "       age_max  daily_budget  lifetime_budget  age_max.1   age_min.1  \\\n",
      "count    215.0    162.000000            162.0      213.0  213.000000   \n",
      "mean      65.0    932.567901              0.0       65.0   32.859155   \n",
      "std        0.0   1235.907924              0.0        0.0    8.437834   \n",
      "min       65.0    110.000000              0.0       65.0   18.000000   \n",
      "25%       65.0    110.000000              0.0       65.0   25.000000   \n",
      "50%       65.0    200.000000              0.0       65.0   30.000000   \n",
      "75%       65.0   2000.000000              0.0       65.0   40.000000   \n",
      "max       65.0   4500.000000              0.0       65.0   45.000000   \n",
      "\n",
      "       window_days  \n",
      "count   215.000000  \n",
      "mean      4.125581  \n",
      "std       3.004365  \n",
      "min       1.000000  \n",
      "25%       1.000000  \n",
      "50%       7.000000  \n",
      "75%       7.000000  \n",
      "max       7.000000  \n"
     ]
    }
   ],
   "source": [
    "# Display summary statistics for numeric columns\n",
    "print(\"\\nSummary statistics:\")\n",
    "print(data.describe())"
   ]
  },
  {
   "cell_type": "code",
   "execution_count": 6,
   "metadata": {},
   "outputs": [
    {
     "name": "stdout",
     "output_type": "stream",
     "text": [
      "\n",
      "Number of duplicate rows before removal: 0\n",
      "Number of duplicate rows after removal: 0\n"
     ]
    }
   ],
   "source": [
    "# Identify and remove duplicate rows\n",
    "print(\"\\nNumber of duplicate rows before removal:\", data.duplicated().sum())\n",
    "data = data.drop_duplicates()\n",
    "print(\"Number of duplicate rows after removal:\", data.duplicated().sum())\n"
   ]
  },
  {
   "cell_type": "code",
   "execution_count": 12,
   "metadata": {},
   "outputs": [
    {
     "name": "stdout",
     "output_type": "stream",
     "text": [
      "\n",
      "Cleaned dataset saved to: /Users/manuel/Documents/GitHub/JeanPierreWeill/Data /MetaAdsOld/cleaned_data.csv\n",
      "\n",
      "Cleaned dataset preview:\n",
      "   Unnamed: 0                 id                               name  \\\n",
      "0           0  23849302854290177       Auto - TOF - US + UK  #Stack   \n",
      "1           0  23849302854290177       Auto - TOF - US + UK  #Stack   \n",
      "2           1  23849302854200177  Auto - TOF - US + UK  #Stack - ON   \n",
      "3           1  23849302854200177  Auto - TOF - US + UK  #Stack - ON   \n",
      "4           2  23849302775990177          Feeds - TOF - US - #Stack   \n",
      "\n",
      "         campaign_id  status    optimization_goal billing_event  \\\n",
      "0  23849302854210177  ACTIVE  OFFSITE_CONVERSIONS   IMPRESSIONS   \n",
      "1  23849302854210177  ACTIVE  OFFSITE_CONVERSIONS   IMPRESSIONS   \n",
      "2  23849302854210177  ACTIVE  OFFSITE_CONVERSIONS   IMPRESSIONS   \n",
      "3  23849302854210177  ACTIVE  OFFSITE_CONVERSIONS   IMPRESSIONS   \n",
      "4  23849302775960177  ACTIVE  OFFSITE_CONVERSIONS   IMPRESSIONS   \n",
      "\n",
      "   budget_remaining                start_time     countries  ...  age_min.1  \\\n",
      "0                 0  2021-10-26T08:33:27-0400  ['US', 'GB']  ...       25.0   \n",
      "1                 0  2021-10-26T08:33:27-0400  ['US', 'GB']  ...       25.0   \n",
      "2                 0  2021-10-26T08:33:28-0400  ['US', 'GB']  ...       25.0   \n",
      "3                 0  2021-10-26T08:33:28-0400  ['US', 'GB']  ...       25.0   \n",
      "4                 0  2021-10-26T08:08:25-0400        ['US']  ...       45.0   \n",
      "\n",
      "                                       geo_locations targeting_optimization  \\\n",
      "0  {'countries': ['US', 'GB'], 'location_types': ...                   none   \n",
      "1  {'countries': ['US', 'GB'], 'location_types': ...                   none   \n",
      "2  {'countries': ['US', 'GB'], 'location_types': ...                   none   \n",
      "3  {'countries': ['US', 'GB'], 'location_types': ...                   none   \n",
      "4  {'countries': ['US'], 'location_types': ['home']}          expansion_all   \n",
      "\n",
      "                             publisher_platforms  \\\n",
      "0  ['facebook', 'instagram', 'audience_network']   \n",
      "1  ['facebook', 'instagram', 'audience_network']   \n",
      "2  ['facebook', 'instagram', 'audience_network']   \n",
      "3  ['facebook', 'instagram', 'audience_network']   \n",
      "4                      ['facebook', 'instagram']   \n",
      "\n",
      "                                  facebook_positions  \\\n",
      "0  ['feed', 'right_hand_column', 'marketplace', '...   \n",
      "1  ['feed', 'right_hand_column', 'marketplace', '...   \n",
      "2  ['feed', 'right_hand_column', 'marketplace', '...   \n",
      "3  ['feed', 'right_hand_column', 'marketplace', '...   \n",
      "4  ['feed', 'right_hand_column', 'video_feeds', '...   \n",
      "\n",
      "              instagram_positions  locales targeting_relaxation_types  \\\n",
      "0  ['stream', 'story', 'explore']      NaN                        NaN   \n",
      "1  ['stream', 'story', 'explore']      NaN                        NaN   \n",
      "2  ['stream', 'story', 'explore']      NaN                        NaN   \n",
      "3  ['stream', 'story', 'explore']      NaN                        NaN   \n",
      "4   ['stream', 'explore', 'shop']      NaN                        NaN   \n",
      "\n",
      "      event_type  window_days  \n",
      "0  CLICK_THROUGH            7  \n",
      "1   VIEW_THROUGH            1  \n",
      "2  CLICK_THROUGH            7  \n",
      "3   VIEW_THROUGH            1  \n",
      "4  CLICK_THROUGH            7  \n",
      "\n",
      "[5 rows x 30 columns]\n"
     ]
    }
   ],
   "source": [
    "import os\n",
    "\n",
    "# Correct the directory path (with space)\n",
    "output_dir = '/Users/manuel/Documents/GitHub/JeanPierreWeill/Data /MetaAdsOld'\n",
    "\n",
    "# Ensure the directory exists\n",
    "if not os.path.exists(output_dir):\n",
    "    os.makedirs(output_dir)\n",
    "\n",
    "# Define the file path with the file name\n",
    "cleaned_file_path = os.path.join(output_dir, 'cleaned_data.csv')\n",
    "\n",
    "# Save the cleaned dataset\n",
    "data.to_csv(cleaned_file_path, index=False)\n",
    "print(f\"\\nCleaned dataset saved to: {cleaned_file_path}\")\n",
    "\n",
    "# Display the first few rows of the cleaned dataset\n",
    "print(\"\\nCleaned dataset preview:\")\n",
    "print(data.head())\n"
   ]
  }
 ],
 "metadata": {
  "kernelspec": {
   "display_name": "e4_eda_jpw_Jupiter",
   "language": "python",
   "name": "python3"
  },
  "language_info": {
   "codemirror_mode": {
    "name": "ipython",
    "version": 3
   },
   "file_extension": ".py",
   "mimetype": "text/x-python",
   "name": "python",
   "nbconvert_exporter": "python",
   "pygments_lexer": "ipython3",
   "version": "3.12.7"
  }
 },
 "nbformat": 4,
 "nbformat_minor": 2
}
